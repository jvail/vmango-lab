{
 "cells": [
  {
   "cell_type": "code",
   "execution_count": null,
   "id": "active-knitting",
   "metadata": {
    "ExecuteTime": {
     "end_time": "2021-05-04T17:23:46.333926Z",
     "start_time": "2021-05-04T17:23:44.114097Z"
    }
   },
   "outputs": [],
   "source": [
    "import numpy as np\n",
    "import xsimlab as xs\n",
    "import pandas as pd\n",
    "import igraph as ig\n",
    "from scipy.sparse import csgraph\n",
    "import vmlab"
   ]
  },
  {
   "cell_type": "code",
   "execution_count": null,
   "id": "handled-technician",
   "metadata": {
    "ExecuteTime": {
     "end_time": "2021-05-04T17:23:47.055988Z",
     "start_time": "2021-05-04T17:23:46.336148Z"
    }
   },
   "outputs": [],
   "source": [
    "from vmlab.models import vmango\n",
    "from vmlab.processes.topology import Topology"
   ]
  },
  {
   "cell_type": "code",
   "execution_count": null,
   "id": "80c32c13-e858-45a8-9892-54aad216eb35",
   "metadata": {},
   "outputs": [],
   "source": [
    "tree = pd.DataFrame({\n",
    "    'parent_id': [np.nan, 0, 1, 1, 1, 1],\n",
    "    'id': [0, 1, 2, 3, 4, 5],\n",
    "    'topology__is_apical': [1, 1, 1, 0, 0, 0]\n",
    "})\n",
    "in_g = ig.Graph.DataFrame(tree.dropna())\n",
    "ig.plot(in_g, bbox=(0,0,150,150), layout=in_g.layout_reingold_tilford())"
   ]
  },
  {
   "cell_type": "code",
   "execution_count": null,
   "id": "188b8f8f-094e-491f-b447-5f1e23187c0f",
   "metadata": {},
   "outputs": [],
   "source": [
    "@xs.process\n",
    "class TopologyPruning(Topology):\n",
    "    \n",
    "    pruned = xs.variable(dims='GU', intent='out')\n",
    "    \n",
    "    def all_descendants(self, parent, children=[]):\n",
    "        for child in np.flatnonzero(self.adjacency[parent, :] == 1.):\n",
    "            children = np.append(np.array(children, dtype=np.int64), self.all_descendants(child, [child]))\n",
    "        return children\n",
    "        \n",
    "    @xs.runtime(args=('nsteps', 'step_start'))\n",
    "    def initialize(self, nsteps, step_start):\n",
    "        \n",
    "        super().initialize(nsteps, step_start)\n",
    "        self.pruned = np.zeros(self.GU.shape, dtype=np.float32)\n",
    "        \n",
    "    @xs.runtime(args=('step', 'step_start', 'nsteps'))\n",
    "    def run_step(self, step, step_start, nsteps):\n",
    "        \n",
    "        super().run_step(step, step_start, nsteps)\n",
    "        \n",
    "        # just a simple rule: prune children of a lateral parent with 2 descendants (parent is not removed)\n",
    "        prune = (self.is_apical == 0.) & (self.nb_descendants == 3) & (self.pruned == 0.)\n",
    "        if np.any(prune):\n",
    "            all_descendants = np.array([], dtype=np.int64)\n",
    "            for parent in np.flatnonzero(prune):\n",
    "                all_descendants = np.unique(np.append(all_descendants, self.all_descendants(parent)))\n",
    "            self.pruned[prune] = 1.\n",
    "            self.pruned[all_descendants] = 1.\n",
    "            self.adjacency[self.pruned == 1, :] = 0.\n",
    "            self.distance = csgraph.shortest_path(csgraph.csgraph_from_dense(self.adjacency)).astype(np.float32)\n",
    "            self.bursted[:] = 0.\n",
    "            # rebuild entire topology\n",
    "            self.lstring = self.lsystem.derive(self.lsystem.axiom, 0, int(np.max(self.distance[np.isfinite(self.distance)])))\n",
    "    "
   ]
  },
  {
   "cell_type": "code",
   "execution_count": null,
   "id": "e7f9a505-be54-496b-a7c7-275a139a5a8b",
   "metadata": {},
   "outputs": [],
   "source": [
    "vmango_pruned = vmango.update_processes({'topology': TopologyPruning})"
   ]
  },
  {
   "cell_type": "code",
   "execution_count": null,
   "id": "collected-pickup",
   "metadata": {
    "ExecuteTime": {
     "end_time": "2021-05-04T17:23:47.458336Z",
     "start_time": "2021-05-04T17:23:47.217164Z"
    }
   },
   "outputs": [],
   "source": [
    "setup = vmlab.create_setup(\n",
    "    model=vmango_pruned,\n",
    "    tree=tree,\n",
    "    start_date='2003-06-01',\n",
    "    end_date='2005-06-01',\n",
    "    setup_toml='vmango.toml',\n",
    "    input_vars={\n",
    "        'geometry__interpretation_freq': 1\n",
    "    },\n",
    "    output_vars={}\n",
    ")"
   ]
  },
  {
   "cell_type": "code",
   "execution_count": null,
   "id": "elect-hampshire",
   "metadata": {
    "ExecuteTime": {
     "start_time": "2021-05-04T17:23:44.118Z"
    }
   },
   "outputs": [],
   "source": [
    "vmlab.run(setup, vmango_pruned, geometry=True)"
   ]
  },
  {
   "cell_type": "code",
   "execution_count": null,
   "id": "contrary-lincoln",
   "metadata": {},
   "outputs": [],
   "source": [
    "# unpruned\n",
    "vmlab.run(\n",
    "    vmlab.create_setup(\n",
    "        model=vmango,\n",
    "        tree=tree,\n",
    "        start_date='2003-06-01',\n",
    "        end_date='2005-06-01',\n",
    "        setup_toml='vmango.toml',\n",
    "        input_vars={\n",
    "            'geometry__interpretation_freq': 1\n",
    "        },\n",
    "        output_vars={}\n",
    "    ),\n",
    "    vmango,\n",
    "    geometry=True\n",
    ")"
   ]
  },
  {
   "cell_type": "code",
   "execution_count": null,
   "id": "13a1e784-ba45-4abf-a6e3-d793d9935cb9",
   "metadata": {},
   "outputs": [],
   "source": []
  }
 ],
 "metadata": {
  "kernelspec": {
   "display_name": "Python 3 (ipykernel)",
   "language": "python",
   "name": "python3"
  },
  "language_info": {
   "codemirror_mode": {
    "name": "ipython",
    "version": 3
   },
   "file_extension": ".py",
   "mimetype": "text/x-python",
   "name": "python",
   "nbconvert_exporter": "python",
   "pygments_lexer": "ipython3",
   "version": "3.9.10"
  },
  "widgets": {
   "application/vnd.jupyter.widget-state+json": {
    "state": {
     "06271d03032b4f69990d224d83d72b7c": {
      "model_module": "@jupyter-widgets/base",
      "model_module_version": "1.2.0",
      "model_name": "LayoutModel",
      "state": {}
     },
     "1f0c79bdfae54e1b9c4e66d6736dd112": {
      "model_module": "@jupyter-widgets/controls",
      "model_module_version": "1.5.0",
      "model_name": "DescriptionStyleModel",
      "state": {
       "description_width": ""
      }
     },
     "26d69f2168da4bcc9125a1219a1cef5c": {
      "model_module": "@jupyter-widgets/controls",
      "model_module_version": "1.5.0",
      "model_name": "HTMLModel",
      "state": {
       "layout": "IPY_MODEL_7fb94d770d784843b556700654d54455",
       "style": "IPY_MODEL_9db3015d73484f7b9e809ca2c9544b29",
       "value": " 100% | Simulation finished in 01:02 "
      }
     },
     "28e268a714764ecc9386feabae79c787": {
      "model_module": "@jupyter-widgets/controls",
      "model_module_version": "1.5.0",
      "model_name": "HTMLModel",
      "state": {
       "layout": "IPY_MODEL_f0ff7923bc8f46988d3abd4b6435ba2e",
       "style": "IPY_MODEL_c160f100a22a4474813b7ed89697440e"
      }
     },
     "29f43059000449edb5a042bcc7122cef": {
      "model_module": "@jupyter-widgets/controls",
      "model_module_version": "1.5.0",
      "model_name": "FloatProgressModel",
      "state": {
       "bar_style": "success",
       "layout": "IPY_MODEL_8d049dc9817847faab1acc89c8056459",
       "max": 733,
       "style": "IPY_MODEL_528b7449a6b24ea6b246f038bc66ef0a",
       "value": 733
      }
     },
     "32ace51ebad4443c9206fbee751a5269": {
      "model_module": "@jupyter-widgets/controls",
      "model_module_version": "1.5.0",
      "model_name": "HTMLModel",
      "state": {
       "layout": "IPY_MODEL_aebb0445a8fa4754a2691af995688015",
       "style": "IPY_MODEL_1f0c79bdfae54e1b9c4e66d6736dd112",
       "value": " 100% | Simulation finished in 00:31 "
      }
     },
     "4e91ccdc399f4c6c80dd5456262dccda": {
      "model_module": "@jupyter-widgets/controls",
      "model_module_version": "1.5.0",
      "model_name": "HBoxModel",
      "state": {
       "children": [
        "IPY_MODEL_6840cddcc2e54333b3d96fde9dc5e777",
        "IPY_MODEL_29f43059000449edb5a042bcc7122cef",
        "IPY_MODEL_26d69f2168da4bcc9125a1219a1cef5c"
       ],
       "layout": "IPY_MODEL_de8304b4a6a04bfd82c312f294b3810d"
      }
     },
     "528b7449a6b24ea6b246f038bc66ef0a": {
      "model_module": "@jupyter-widgets/controls",
      "model_module_version": "1.5.0",
      "model_name": "ProgressStyleModel",
      "state": {
       "description_width": ""
      }
     },
     "57a9fa26fc194bf091adb8348c9a92ed": {
      "model_module": "pgljupyter",
      "model_module_version": "^1.2.0",
      "model_name": "SceneWidgetModel",
      "state": {
       "_model_module_version": "^1.2.0",
       "_view_module_version": "^1.2.0",
       "axes_helper": false,
       "layout": "IPY_MODEL_e7962825e3204e049c31e7dbb82d824d",
       "light_helper": false,
       "plane": true,
       "size_display": [
        400,
        400
       ],
       "size_world": 2.5
      }
     },
     "6840cddcc2e54333b3d96fde9dc5e777": {
      "model_module": "@jupyter-widgets/controls",
      "model_module_version": "1.5.0",
      "model_name": "HTMLModel",
      "state": {
       "layout": "IPY_MODEL_6ea4c02791af44e6bbfde40467129dd3",
       "style": "IPY_MODEL_c670643ee13845f6a960310ad5392955"
      }
     },
     "6ea4c02791af44e6bbfde40467129dd3": {
      "model_module": "@jupyter-widgets/base",
      "model_module_version": "1.2.0",
      "model_name": "LayoutModel",
      "state": {}
     },
     "7fb94d770d784843b556700654d54455": {
      "model_module": "@jupyter-widgets/base",
      "model_module_version": "1.2.0",
      "model_name": "LayoutModel",
      "state": {}
     },
     "8d049dc9817847faab1acc89c8056459": {
      "model_module": "@jupyter-widgets/base",
      "model_module_version": "1.2.0",
      "model_name": "LayoutModel",
      "state": {}
     },
     "909136f0e5474102b3dc8e36a9ef79b2": {
      "model_module": "@jupyter-widgets/controls",
      "model_module_version": "1.5.0",
      "model_name": "FloatProgressModel",
      "state": {
       "bar_style": "success",
       "layout": "IPY_MODEL_94235c1584f3478a90d17de2ef4dacd5",
       "max": 733,
       "style": "IPY_MODEL_cdeca280221247fa84ba6c47cb583f58",
       "value": 733
      }
     },
     "9220b1827e374f2daeea74bfbdc67f2a": {
      "model_module": "pgljupyter",
      "model_module_version": "^1.2.0",
      "model_name": "SceneWidgetModel",
      "state": {
       "_model_module_version": "^1.2.0",
       "_view_module_version": "^1.2.0",
       "axes_helper": false,
       "layout": "IPY_MODEL_d192642dc4414cf6abdc58ed06206e87",
       "light_helper": false,
       "plane": true,
       "size_display": [
        400,
        400
       ],
       "size_world": 2.5
      }
     },
     "94235c1584f3478a90d17de2ef4dacd5": {
      "model_module": "@jupyter-widgets/base",
      "model_module_version": "1.2.0",
      "model_name": "LayoutModel",
      "state": {}
     },
     "9db3015d73484f7b9e809ca2c9544b29": {
      "model_module": "@jupyter-widgets/controls",
      "model_module_version": "1.5.0",
      "model_name": "DescriptionStyleModel",
      "state": {
       "description_width": ""
      }
     },
     "aebb0445a8fa4754a2691af995688015": {
      "model_module": "@jupyter-widgets/base",
      "model_module_version": "1.2.0",
      "model_name": "LayoutModel",
      "state": {}
     },
     "bd135db6c50c4ec28946fb4ed62e7578": {
      "model_module": "@jupyter-widgets/controls",
      "model_module_version": "1.5.0",
      "model_name": "HBoxModel",
      "state": {
       "children": [
        "IPY_MODEL_28e268a714764ecc9386feabae79c787",
        "IPY_MODEL_909136f0e5474102b3dc8e36a9ef79b2",
        "IPY_MODEL_32ace51ebad4443c9206fbee751a5269"
       ],
       "layout": "IPY_MODEL_06271d03032b4f69990d224d83d72b7c"
      }
     },
     "c160f100a22a4474813b7ed89697440e": {
      "model_module": "@jupyter-widgets/controls",
      "model_module_version": "1.5.0",
      "model_name": "DescriptionStyleModel",
      "state": {
       "description_width": ""
      }
     },
     "c670643ee13845f6a960310ad5392955": {
      "model_module": "@jupyter-widgets/controls",
      "model_module_version": "1.5.0",
      "model_name": "DescriptionStyleModel",
      "state": {
       "description_width": ""
      }
     },
     "cdeca280221247fa84ba6c47cb583f58": {
      "model_module": "@jupyter-widgets/controls",
      "model_module_version": "1.5.0",
      "model_name": "ProgressStyleModel",
      "state": {
       "description_width": ""
      }
     },
     "d192642dc4414cf6abdc58ed06206e87": {
      "model_module": "@jupyter-widgets/base",
      "model_module_version": "1.2.0",
      "model_name": "LayoutModel",
      "state": {}
     },
     "de8304b4a6a04bfd82c312f294b3810d": {
      "model_module": "@jupyter-widgets/base",
      "model_module_version": "1.2.0",
      "model_name": "LayoutModel",
      "state": {}
     },
     "e7962825e3204e049c31e7dbb82d824d": {
      "model_module": "@jupyter-widgets/base",
      "model_module_version": "1.2.0",
      "model_name": "LayoutModel",
      "state": {}
     },
     "f0ff7923bc8f46988d3abd4b6435ba2e": {
      "model_module": "@jupyter-widgets/base",
      "model_module_version": "1.2.0",
      "model_name": "LayoutModel",
      "state": {}
     }
    },
    "version_major": 2,
    "version_minor": 0
   }
  }
 },
 "nbformat": 4,
 "nbformat_minor": 5
}
